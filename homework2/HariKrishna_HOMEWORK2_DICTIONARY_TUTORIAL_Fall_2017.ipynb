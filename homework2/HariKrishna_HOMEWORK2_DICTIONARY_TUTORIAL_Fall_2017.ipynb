{
 "cells": [
  {
   "cell_type": "markdown",
   "metadata": {},
   "source": [
    "# USE OF DICTIONARY"
   ]
  },
  {
   "cell_type": "markdown",
   "metadata": {},
   "source": [
    "This program shows the few operations on dictionary 'dict'"
   ]
  },
  {
   "cell_type": "code",
   "execution_count": 38,
   "metadata": {},
   "outputs": [
    {
     "name": "stdout",
     "output_type": "stream",
     "text": [
      "Access :  {'Dept': 'CS', 'Text': 'XYZ', 'Name': 'Pavani', 'Location': 'Connelly'}\n",
      "Modify :  {'Dept': 'CS', 'Text': 'XYZ', 'Name': 'Pavani', 'Location': 'Mendel'}\n",
      "Delete :  {'Dept': 'CS', 'Name': 'Pavani', 'Location': 'Mendel'}\n",
      "After Merging :  {'Dept': 'CS', 'Message': 'Merged', 'Name': 'Pavani', 'Location': 'Mendel'}\n",
      "Keys : \n",
      "['Dept', 'Message', 'Name', 'Location']\n",
      "Values : \n",
      "['CS', 'Merged', 'Pavani', 'Mendel']\n",
      "Items : \n",
      "[('Dept', 'CS'), ('Message', 'Merged'), ('Name', 'Pavani'), ('Location', 'Mendel')]\n"
     ]
    }
   ],
   "source": [
    "dict = {'Name': 'Pavani', 'Dept':'CS', 'Location':'Connelly', 'Text':'XYZ'}   # Creation\n",
    "print \"Access : \",dict                               #Accessing \n",
    "\n",
    "dict['Location']='Mendel'\n",
    "\n",
    "print \"Modify : \",dict                               #Modify\n",
    "\n",
    "del dict['Text']\n",
    "print \"Delete : \",dict                              #Delete\n",
    "\n",
    "dict1 ={'Message':'Merged'}\n",
    "dict.update(dict1)                                  #Merge\n",
    "print \"After Merging : \",dict\n",
    "\n",
    "print \"Keys : \"                                     #Loop over Keys\n",
    "key=[]\n",
    "for i in dict.keys():\n",
    "    key.append(i)\n",
    "print key\n",
    "\n",
    "print \"Values : \"                                  #Over Values\n",
    "val=[]\n",
    "for i in dict.values():\n",
    "    val.append(i)\n",
    "print val\n",
    "\n",
    "print \"Items : \"                                     #Over Items\n",
    "item=[]\n",
    "for i in dict.items():\n",
    "    item.append(i)\n",
    "print item\n"
   ]
  }
 ],
 "metadata": {
  "kernelspec": {
   "display_name": "Python 2",
   "language": "python",
   "name": "python2"
  },
  "language_info": {
   "codemirror_mode": {
    "name": "ipython",
    "version": 2
   },
   "file_extension": ".py",
   "mimetype": "text/x-python",
   "name": "python",
   "nbconvert_exporter": "python",
   "pygments_lexer": "ipython2",
   "version": "2.7.13"
  }
 },
 "nbformat": 4,
 "nbformat_minor": 2
}
