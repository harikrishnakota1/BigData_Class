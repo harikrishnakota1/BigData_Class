{
 "cells": [
  {
   "cell_type": "markdown",
   "metadata": {},
   "source": [
    "# HOMEWORK6"
   ]
  },
  {
   "cell_type": "markdown",
   "metadata": {},
   "source": [
    "6.1 Register for a stream of Twitter data"
   ]
  },
  {
   "cell_type": "code",
   "execution_count": 58,
   "metadata": {},
   "outputs": [
    {
     "name": "stdout",
     "output_type": "stream",
     "text": [
      "Overwriting C:/Users/Pavani/Desktop/Homework6/Tweet_app.py\n"
     ]
    }
   ],
   "source": [
    "%%writefile C:/Users/Pavani/Desktop/Homework6/Tweet_app.py\n",
    "#Import the necessary methods from tweepy library\n",
    "from tweepy.streaming import StreamListener\n",
    "from tweepy.auth import OAuthHandler\n",
    "from tweepy import Stream\n",
    "\n",
    "#Variables that contains the user credentials to access Twitter API \n",
    "access_token = \"2261482722-PMBgA0HwYWyp3u4DArihMe8dZ80U1gANlLE5sqZ\"\n",
    "access_token_secret = \"Ta1oaaSKzb9fNtgzVxwHyZWvmsMypSefaUv11fKZDsWdh\"\n",
    "consumer_key = \"6kfpQ4WnZJVGUO4sr0sCbVnzw\"\n",
    "consumer_secret = \"eYVqcpObN3AlhdhBM5uGTiGkMvPJBMzcAk4A3lKgdJT7EVDMCH\"\n",
    "\n",
    "# This is a basic listener that just prints received tweets to stdout.\n",
    "class StdOutListener(StreamListener):\n",
    "    def on_data(self, data):\n",
    "        \n",
    "        #file=open(\"TweetOut.txt\",\"a\")\n",
    "        #file.write(data)\n",
    "        print(data)\n",
    "        return True\n",
    "\n",
    "    def on_error(self, status):\n",
    "        print (status)\n",
    "\n",
    "\n",
    "if __name__ == '__main__':\n",
    "    # This handles Twitter authetification and the connection to Twitter Streaming API\n",
    "    l = StdOutListener()\n",
    "    auth = OAuthHandler(consumer_key, consumer_secret)\n",
    "    auth.set_access_token(access_token, access_token_secret)\n",
    "    stream = Stream(auth, l)\n",
    "\n",
    "    # This line filter Twitter Streams to capture data by the keywords: 'python', 'javascript', 'ruby'\n",
    "\n",
    "    stream.filter(track=['Big Data', 'IoT','Cloud'])"
   ]
  },
  {
   "cell_type": "code",
   "execution_count": null,
   "metadata": {
    "collapsed": true
   },
   "outputs": [],
   "source": [
    "%%cmd\n",
    "python C:/Users/Pavani/Desktop/Homework6/Tweet_app.py > C:/Users/Pavani/Desktop/Homework6/Tweet_Out.txt"
   ]
  },
  {
   "cell_type": "code",
   "execution_count": 21,
   "metadata": {},
   "outputs": [
    {
     "name": "stdout",
     "output_type": "stream",
     "text": [
      "439\n"
     ]
    },
    {
     "data": {
      "text/html": [
       "<div>\n",
       "<style>\n",
       "    .dataframe thead tr:only-child th {\n",
       "        text-align: right;\n",
       "    }\n",
       "\n",
       "    .dataframe thead th {\n",
       "        text-align: left;\n",
       "    }\n",
       "\n",
       "    .dataframe tbody tr th {\n",
       "        vertical-align: top;\n",
       "    }\n",
       "</style>\n",
       "<table border=\"1\" class=\"dataframe\">\n",
       "  <thead>\n",
       "    <tr style=\"text-align: right;\">\n",
       "      <th></th>\n",
       "      <th>text</th>\n",
       "      <th>lang</th>\n",
       "      <th>time_zone</th>\n",
       "    </tr>\n",
       "  </thead>\n",
       "  <tbody>\n",
       "    <tr>\n",
       "      <th>0</th>\n",
       "      <td>#IoT #SSP #Comunidade #AntonioCarlos #JoaoFred...</td>\n",
       "      <td>und</td>\n",
       "      <td>Pacific Time (US &amp; Canada)</td>\n",
       "    </tr>\n",
       "    <tr>\n",
       "      <th>1</th>\n",
       "      <td>RT @MicrosoftMSM: Don’t Let Your #Cloud Projec...</td>\n",
       "      <td>en</td>\n",
       "      <td>America/Chicago</td>\n",
       "    </tr>\n",
       "    <tr>\n",
       "      <th>2</th>\n",
       "      <td>RT @VertiAI: #BigData to be launched next Apri...</td>\n",
       "      <td>en</td>\n",
       "      <td>Pacific Time (US &amp; Canada)</td>\n",
       "    </tr>\n",
       "    <tr>\n",
       "      <th>3</th>\n",
       "      <td>RT @VertiAI: #BigData to be launched next Apri...</td>\n",
       "      <td>en</td>\n",
       "      <td>Pacific Time (US &amp; Canada)</td>\n",
       "    </tr>\n",
       "    <tr>\n",
       "      <th>4</th>\n",
       "      <td>Restful API Interface Using Android Things htt...</td>\n",
       "      <td>en</td>\n",
       "      <td>Eastern Time (US &amp; Canada)</td>\n",
       "    </tr>\n",
       "  </tbody>\n",
       "</table>\n",
       "</div>"
      ],
      "text/plain": [
       "                                                text lang  \\\n",
       "0  #IoT #SSP #Comunidade #AntonioCarlos #JoaoFred...  und   \n",
       "1  RT @MicrosoftMSM: Don’t Let Your #Cloud Projec...   en   \n",
       "2  RT @VertiAI: #BigData to be launched next Apri...   en   \n",
       "3  RT @VertiAI: #BigData to be launched next Apri...   en   \n",
       "4  Restful API Interface Using Android Things htt...   en   \n",
       "\n",
       "                    time_zone  \n",
       "0  Pacific Time (US & Canada)  \n",
       "1             America/Chicago  \n",
       "2  Pacific Time (US & Canada)  \n",
       "3  Pacific Time (US & Canada)  \n",
       "4  Eastern Time (US & Canada)  "
      ]
     },
     "execution_count": 21,
     "metadata": {},
     "output_type": "execute_result"
    }
   ],
   "source": [
    "import json\n",
    "import pandas as pd\n",
    "t_list = []\n",
    "t_file = open(\"Tweet_Out.txt\", \"r\")\n",
    "for line in t_file:\n",
    "    try:\n",
    "        tweet = json.loads(line)\n",
    "        t_list.append(tweet)\n",
    "    except:\n",
    "        continue\n",
    "print len(t_list)\n",
    "tweets = pd.DataFrame()\n",
    "tweets['text'] = map(lambda tweet: tweet['text'], t_list)\n",
    "tweets['lang'] = map(lambda tweet: tweet['lang'], t_list)\n",
    "tweets['time_zone'] = map(lambda tweet: tweet['user']['time_zone'], t_list)\n",
    "tweets.head(5)\n"
   ]
  },
  {
   "cell_type": "code",
   "execution_count": 3,
   "metadata": {},
   "outputs": [
    {
     "data": {
      "text/plain": [
       "         780\n",
       "The       17\n",
       "to        16\n",
       "of        13\n",
       "IoT       12\n",
       "Cloud     12\n",
       "cloud     10\n",
       "the       10\n",
       "and        9\n",
       "in         9\n",
       "dtype: int64"
      ]
     },
     "execution_count": 3,
     "metadata": {},
     "output_type": "execute_result"
    }
   ],
   "source": [
    "tweet_text=tweets.loc[tweets['lang']=='en','text']\n",
    "t_text_without_urls = tweet_text.str.replace('http\\S+|www.\\S', ' ', case=False)#removing URLs in tweet_text\n",
    "cleand_tweets=t_text_without_urls.str.replace('@[A-Za-z0-9]|[^0-9A-Za-z \\t]|RT+.*|[^A-Za-z]',' ', case=False)#removing special characters\n",
    "cleand_tweets.str.split(' ', expand=True).stack().unique()\n",
    "cleand_tweets.str.split(' ', expand=True).stack().value_counts().head(10)"
   ]
  },
  {
   "cell_type": "code",
   "execution_count": 20,
   "metadata": {},
   "outputs": [
    {
     "name": "stdout",
     "output_type": "stream",
     "text": [
      "['' u'The' u'latest' u'Industrial' u'Internet' u'Things' u'Daily' u'iot'\n",
      " u'INCI' u'Digital' u'IoT' u'IIoT' u'AI' u'Disruption' u'IR' u'Boston'\n",
      " u'Dynamics' u'Atlas' u'Robot' u'Is' u'A' u'Parkour' u'Sensors'\n",
      " u'SelfDriving' u'Cc' u'MassEffect' u'squad' u'point' u'today' u'Cloud'\n",
      " u'Dark' u'Evil' u'Siren' u'onSoonCosplay' u'asseffect' u'ioware'\n",
      " u'Anshuman' u'Global' u'Post' u'Quantum' u'Cryptography' u'Communications'\n",
      " u'Quantumcomputing' u'icotracker' u'What' u'beauty' u'look' u'like' u'ico'\n",
      " u'boosteroid' u'cloudcomputing' u'Why' u'sma' u'I' u'favorited'\n",
      " u'Vulfpeck' u'Back' u'Pocket' u'Moods' u'ReGroove' u'Sound' u'Sadma'\n",
      " u'Sula' u'Original' u'mix' u'Official' u'Wired' u'Top' u'Stories' u'via'\n",
      " u'ikeYuhn' u'Pentagon' u'Left' u'Data' u'Exposed' u'W' u'see' u'Big'\n",
      " u'data' u'next' u'frontier' u'innovation' u'competition' u'Economics'\n",
      " u'story' u'Shore' u'World' u'C' u'xplorationproj' u'rain' u'misty'\n",
      " u'standing' u'low' u'cloud' u'Google' u'ramp' u'Japan' u'eyes' u'Market'\n",
      " u'big' u'services' u'Forbes' u'Cindy' u'Crawford' u'Robotics' u'Inn'\n",
      " u'Innovation' u'New' u'post' u'Matrix' u'Of' u'Hell' u'And' u'Two' u'Open'\n",
      " u'Source' u'Projects' u'For' u'Emerging' u'Agnostic' u'published' u'Th'\n",
      " u'Anyone' u'else' u'octopus' u'Sma' u'Plenty' u'lightning' u'line'\n",
      " u'especially' u'south' u'Some' u'ground' u'overRadio' u'MGCharlie'\n",
      " u'emergency' u'LOL' u'anyone' u'going' u'Holy' u'Moses' u'tonight'\n",
      " u'spare' u'beast' u'glass' u'Go' u'ProjectEDDIE' u'Thinking' u'bring'\n",
      " u'concepts' u'undergrad' u'ecology' u'course' u'Check' u'Socialmedia'\n",
      " u'Dataviz' u'SMM' u'CX' u'Sta' u'Dave' u'Warner' u'says' u'may' u'know'\n",
      " u'source' u'mysterious' u'radiation' u'disruptive' u'sta' u'In' u'move'\n",
      " u'beyond' u'experimentation' u'ZDNet' u'internetofthings' u'eepskymike'\n",
      " u'Battling' u'mo' u'rd' u'night' u'Think' u'clocked' u'hours' u'sleep'\n",
      " u'since' u'Thursday' u'analytics' u'pharma' u'Thanks' u'ilaRossier'\n",
      " u'ekrause' u'wankpharm' u'bigdata' u'Strong' u'T' u'Storm' u'Producing'\n",
      " u'Small' u'Hail' u'Winds' u'MPH' u'Near' u'Jumpe' u'Springdale' u'Miles'\n",
      " u'NW' u'Water' u'Valley' u'Moving' u'NE' u'At' u'Scala' u'Spark'\n",
      " u'Machine' u'Learning' u'Byhalia' u'Holly' u'Springs' u'E' u'V'\n",
      " u'Transformation' u'Attaining' u'Precision' u'Analytics' u'Mobility'\n",
      " u'htt' u'Castlerock' u'Castlepoint' u'Zealand' u'Image' u'Tomas' u'Milan'\n",
      " u'MakeSpace' u'Storage' u'Physical' u'Stuff' u'CodeAnywhereCoding' u'That'\n",
      " u'Actually' u'Works' u'Shared' u'Heo' u'Solji' u'DigitalMarketing'\n",
      " u'GrowthHacking' u'SEO' u'SEM' u'Blockchain' u'DeepLearning' u'Recruiting'\n",
      " u'IT' u'staff' u'headache' u'good' u'agent' u'takes' u'pain' u'away' u'UK'\n",
      " u'Azure' u'jobs' u'Book' u'call' u'gt' u'Using' u'social' u'media'\n",
      " u'combat' u'prescription' u'drug' u'crisis' u'EurekAle' u'Future' u'Tech'\n",
      " u'come' u'Timeline' u'technology' u'infographic' u'Healthcare' u'Every'\n",
      " u'Link' u'Trade' u'Supply' u'Chain' u'Could' u'Trans' u'MachineLearning'\n",
      " u'DevOps' u'BigData' u'VR' u'ML' u'blockchain' u'CyberSecurity' u'Useful'\n",
      " u'DL' u'makeyourownlane' u'Branding' u'Mpgvip' u'Defstar' u'Knx'\n",
      " u'EDpCloud' u'mirrors' u'filesynchronization' u'different' u'operating'\n",
      " u'systems' u'across' u'locations' u'Used' u'get' u'sister' u'fix' u'hair'\n",
      " u'Leia' u'City' u'style' u'Didn' u'happen' u'often' u'She' u'right'\n",
      " u'AspiraCloud' u'rmandofagundes' u'sdev' u'heILFM' u'Exabytes' u'Giga'\n",
      " u'Tera' u'Peta' u'Exa' u'It' u'one' u'million' u'TB' u'drives' u'store'\n",
      " u'exabyte' u'This' u'lot' u'Lyft' u'app' u'gives' u'TWENTY' u'bucks'\n",
      " u'use' u'free' u'payment' u'screen' u'amp' u'enter' u'ZOOT' u'St' u'State'\n",
      " u'University' u'Marketing' u'infosec' u'CyberRisk' u'CyberAware'\n",
      " u'tsJustHedy' u'Calm' u'ya' u'tits' u'hedy' u'anywhere' u'near' u'anyway'\n",
      " u'probably' u'deformation' u'satellite' u'Fintech' u'BlockChain'\n",
      " u'fintech' u'vc' u'IoE' u'investment' u'Crypto' u'Cybe' u'Wine' u'goes'\n",
      " u'wireless' u'Historic' u'vineyard' u'field' u'tests' u'Bell' u'new'\n",
      " u'network' u'CanadaTechBiz' u'Building' u'lifecycles' u'projects' u'edge'\n",
      " u'Iot' u'With' u'suppo' u'See' u'Retweeted' u'Microsoft' u'zure' u'Get'\n",
      " u'AzureML' u'open' u'elastic' u'development' u'spanning']\n"
     ]
    }
   ],
   "source": [
    "from nltk.corpus import stopwords\n",
    "import numpy as np\n",
    "\n",
    "s = stopwords.words('english')#eliminates stop word\n",
    "No_stopwords=cleand_tweets.apply(lambda x: ' '.join([word for word in x.split() if word not in (s)]))\n",
    "cleaned_without_stopwords=No_stopwords.str.split(' ', expand=True).stack().unique()\n",
    "No_stopwords.str.split(' ', expand=True).stack().value_counts()\n",
    "print cleaned_without_stopwords\n",
    "\n",
    "np.savetxt(r'english/test.txt', cleaned_without_stopwords, fmt='%s')"
   ]
  },
  {
   "cell_type": "code",
   "execution_count": 21,
   "metadata": {
    "collapsed": true
   },
   "outputs": [],
   "source": [
    "#creates other dataset but with same keywords\n",
    "import json\n",
    "import pandas as pd\n",
    "from nltk.corpus import stopwords\n",
    "import numpy as np\n",
    "\n",
    "t_list = []\n",
    "t_file = open(\"Tweet_Out1.txt\", \"r\")\n",
    "for line in t_file:\n",
    "    try:\n",
    "        tweet = json.loads(line)\n",
    "        t_list.append(tweet)\n",
    "    except:\n",
    "        continue\n",
    "        \n",
    "tweets = pd.DataFrame()\n",
    "tweets['text'] = map(lambda tweet: tweet['text'], t_list)\n",
    "tweets['lang'] = map(lambda tweet: tweet['lang'], t_list)\n",
    "tweets['time_zone'] = map(lambda tweet: tweet['user']['time_zone'], t_list)\n",
    "tweets.head(5)\n",
    "\n",
    "tweet_text=tweets.loc[tweets['lang']=='en','text']\n",
    "t_text_without_urls = tweet_text.str.replace('http\\S+|www.\\S', ' ', case=False)\n",
    "cleand_tweets=t_text_without_urls.str.replace('@[A-Za-z0-9]|[^0-9A-Za-z \\t]|RT+.*|[^A-Za-z]',' ', case=False)\n",
    "cleand_tweets.str.split(' ', expand=True).stack().unique()\n",
    "cleand_tweets.str.split(' ', expand=True).stack().value_counts().head(10)\n",
    "\n",
    "stop = stopwords.words('english')\n",
    "No_stopwords=cleand_tweets.apply(lambda x: ' '.join([word for word in x.split() if word not in (stop)]))\n",
    "cleaned_without_stopwords_1=No_stopwords.str.split(' ', expand=True).stack().unique()\n",
    "No_stopwords.str.split(' ', expand=True).stack().value_counts()\n",
    "\n",
    "np.savetxt(r'english/test1.txt', cleaned_without_stopwords_1, fmt='%s')\n"
   ]
  },
  {
   "cell_type": "markdown",
   "metadata": {},
   "source": [
    "6.2 Create a bloom filter classifying two days worth of twitters ( after removing stop words and urls )"
   ]
  },
  {
   "cell_type": "code",
   "execution_count": 22,
   "metadata": {},
   "outputs": [
    {
     "name": "stdout",
     "output_type": "stream",
     "text": [
      "test1.txt set(['', 'gt', 'chain', 'global', 'infographic', 'sleep', 'go', 'eepskymike', 'hedy', 'thursday', 'th', 'atlas', 'giga', 'mph', 'every', 'cyberrisk', 'small', 'says', 'winds', 'htt', 'dynamics', 'investment', 'what', 'clocked', 'goes', 'new', 'leia', 'concepts', 'hours', 'operating', 'makeyourownlane', 'strong', 'cloudcomputing', 'battling', 'economics', 'cindy', 'published', 'via', 'useful', 'mobility', 'app', 'castlerock', 'market', 'experimentation', 'standing', 'use', 'takes', 'springdale', 'blockchain', 'devops', 'suppo', 'next', 'vineyard', 'call', 'calm', 'mysterious', 'today', 'holy', 'infosec', 'disruption', 'producing', 'moses', 'this', 'ml', 'mo', 'anywhere', 'v', 'trans', 'mirrors', 'agent', 'spanning', 'siren', 'get', 'machine', 'beauty', 'may', 'regroove', 'asseffect', 'data', 'a', 'robot', 'st', 'shore', 'enter', 'wine', 'lifecycles', 'move', 'trade', 'course', 'left', 'japan', 'style', 'pharma', 'fix', 'socialmedia', 'actually', 'systems', 'deformation', 'good', 'ya', 'byhalia', 'edge', 'university', 'didn', 'crypto', 'tera', 'projecteddie', 'warner', 'milan', 'quantum', 'happen', 'beyond', 'matrix', 'frontier', 'since', 'rd', 'smm', 'miles', 'internet', 'sma', 'she', 'iot', 'heilfm', 'timeline', 'million', 'free', 'evil', 'sensors', 'elastic', 'could', 'defstar', 'w', 'wired', 'think', 'south', 'industrial', 'zure', 'one', 'open', 'city', 'story', 'twenty', 'top', 'recruiting', 'anyone', 'storm', 'store', 'gives', 'eyes', 'that', 'heo', 'sta', 'future', 'deeplearning', 'growthhacking', 'headache', 'digitalmarketing', 'quantumcomputing', 'boston', 'locations', 'tonight', 'sula', 'mix', 'aspiracloud', 'squad', 'ekrause', 'pain', 'combat', 'healthcare', 'plenty', 'services', 'payment', 'zealand', 'especially', 'exa', 'internetofthings', 'tech', 'sadma', 'microsoft', 'emerging', 'anyway', 'bring', 'vulfpeck', 'ground', 'wankpharm', 'going', 'boosteroid', 'iiot', 'dl', 'cryptography', 'mgcharlie', 'pocket', 'shared', 'mpgvip', 'undergrad', 'stuff', 'makespace', 'lyft', 'branding', 'cybe', 'analytics', 'see', 'xplorationproj', 'hell', 'seo', 'sem', 'peta', 'away', 'state', 'probably', 'across', 'ikeyuhn', 'jobs', 'screen', 'spare', 'spark', 'come', 'water', 'c', 'prescription', 'eurekale', 'ramp', 'drug', 'ioware', 'and', 'point', 'cc', 'robotics', 'cx', 'learning', 'springs', 'fintech', 'crawford', 'precision', 'else', 'dave', 'disruptive', 'sound', 'look', 'near', 'vc', 'is', 'ir', 'agnostic', 'it', 'vr', 'in', 'bucks', 'technology', 'edpcloud', 'different', 'things', 'radiation', 'inci', 'rmandofagundes', 'development', 'favorited', 'satellite', 'used', 'social', 'drives', 'rain', 'beast', 'moving', 'ioe', 'azureml', 'i', 'know', 'anshuman', 'historic', 'knx', 'the', 'ilarossier', 'latest', 'sdev', 'exabyte', 'masseffect', 'thanks', 'world', 'tsjusthedy', 'thinking', 'supply', 'solji', 'source', 'forbes', 'transformation', 'tomas', 'tests', 'emergency', 'big', 'dark', 'icotracker', 'moods', 'using', 'projects', 'like', 'lightning', 'communications', 'zoot', 't', 'night', 'works', 'google', 'often', 'exposed', 'staff', 'some', 'back', 'competition', 'hair', 'ico', 'for', 'scala', 'bigdata', 'zdnet', 'crisis', 'onsooncosplay', 'castlepoint', 'innovation', 'filesynchronization', 'selfdriving', 'marketing', 'post', 'jumpe', 'sister', 'of', 'azure', 'octopus', 'exabytes', 'retweeted', 'image', 'two', 'canadatechbiz', 'ecology', 'pentagon', 'machinelearning', 'lol', 'why', 'cybersecurity', 'low', 'lot', 'valley', 'media', 'wireless', 'cloud', 'link', 'hail', 'line', 'with', 'misty', 'official', 'stories', 'uk', 'codeanywherecoding', 'bell', 'dataviz', 'ai', 'tb', 'inn', 'right', 'at', 'check', 'physical', 'storage', 'ne', 'field', 'book', 'tits', 'digital', 'holly', 'overradio', 'nw', 'parkour', 'cyberaware', 'network', 'building', 'e', 'amp', 'glass', 'daily', 'attaining', 'original'])\n",
      "test.txt set(['', 'gt', 'chain', 'global', 'infographic', 'sleep', 'go', 'eepskymike', 'hedy', 'thursday', 'th', 'atlas', 'giga', 'mph', 'every', 'cyberrisk', 'small', 'says', 'winds', 'htt', 'dynamics', 'investment', 'what', 'clocked', 'goes', 'new', 'leia', 'concepts', 'hours', 'operating', 'makeyourownlane', 'strong', 'cloudcomputing', 'battling', 'economics', 'cindy', 'published', 'via', 'useful', 'mobility', 'app', 'castlerock', 'market', 'experimentation', 'standing', 'use', 'takes', 'springdale', 'blockchain', 'devops', 'suppo', 'next', 'vineyard', 'call', 'calm', 'mysterious', 'today', 'holy', 'infosec', 'disruption', 'producing', 'moses', 'this', 'ml', 'mo', 'anywhere', 'v', 'trans', 'mirrors', 'agent', 'spanning', 'siren', 'get', 'machine', 'beauty', 'may', 'regroove', 'asseffect', 'data', 'a', 'robot', 'st', 'shore', 'enter', 'wine', 'lifecycles', 'move', 'trade', 'course', 'left', 'japan', 'style', 'pharma', 'fix', 'socialmedia', 'actually', 'systems', 'deformation', 'good', 'ya', 'byhalia', 'edge', 'university', 'didn', 'crypto', 'tera', 'projecteddie', 'warner', 'milan', 'quantum', 'happen', 'beyond', 'matrix', 'frontier', 'since', 'rd', 'smm', 'miles', 'internet', 'sma', 'she', 'iot', 'heilfm', 'timeline', 'million', 'free', 'evil', 'sensors', 'elastic', 'could', 'defstar', 'w', 'wired', 'think', 'south', 'industrial', 'zure', 'one', 'open', 'city', 'story', 'twenty', 'top', 'recruiting', 'anyone', 'storm', 'store', 'gives', 'eyes', 'that', 'heo', 'sta', 'future', 'deeplearning', 'growthhacking', 'headache', 'digitalmarketing', 'quantumcomputing', 'boston', 'locations', 'tonight', 'sula', 'mix', 'aspiracloud', 'squad', 'ekrause', 'pain', 'combat', 'healthcare', 'plenty', 'services', 'payment', 'zealand', 'especially', 'exa', 'internetofthings', 'tech', 'sadma', 'microsoft', 'emerging', 'anyway', 'bring', 'vulfpeck', 'ground', 'wankpharm', 'going', 'boosteroid', 'iiot', 'dl', 'cryptography', 'mgcharlie', 'pocket', 'shared', 'mpgvip', 'undergrad', 'stuff', 'makespace', 'lyft', 'branding', 'cybe', 'analytics', 'see', 'xplorationproj', 'hell', 'seo', 'sem', 'peta', 'away', 'state', 'probably', 'across', 'ikeyuhn', 'jobs', 'screen', 'spare', 'spark', 'come', 'water', 'c', 'prescription', 'eurekale', 'ramp', 'drug', 'ioware', 'and', 'point', 'cc', 'robotics', 'cx', 'learning', 'springs', 'fintech', 'crawford', 'precision', 'else', 'dave', 'disruptive', 'sound', 'look', 'near', 'vc', 'is', 'ir', 'agnostic', 'it', 'vr', 'in', 'bucks', 'technology', 'edpcloud', 'different', 'things', 'radiation', 'inci', 'rmandofagundes', 'development', 'favorited', 'satellite', 'used', 'social', 'drives', 'rain', 'beast', 'moving', 'ioe', 'azureml', 'i', 'know', 'anshuman', 'historic', 'knx', 'the', 'ilarossier', 'latest', 'sdev', 'exabyte', 'masseffect', 'thanks', 'world', 'tsjusthedy', 'thinking', 'supply', 'solji', 'source', 'forbes', 'transformation', 'tomas', 'tests', 'emergency', 'big', 'dark', 'icotracker', 'moods', 'using', 'projects', 'like', 'lightning', 'communications', 'zoot', 't', 'night', 'works', 'google', 'often', 'exposed', 'staff', 'some', 'back', 'competition', 'hair', 'ico', 'for', 'scala', 'bigdata', 'zdnet', 'crisis', 'onsooncosplay', 'castlepoint', 'innovation', 'filesynchronization', 'selfdriving', 'marketing', 'post', 'jumpe', 'sister', 'of', 'azure', 'octopus', 'exabytes', 'retweeted', 'image', 'two', 'canadatechbiz', 'ecology', 'pentagon', 'machinelearning', 'lol', 'why', 'cybersecurity', 'low', 'lot', 'valley', 'media', 'wireless', 'cloud', 'link', 'hail', 'line', 'with', 'misty', 'official', 'stories', 'uk', 'codeanywherecoding', 'bell', 'dataviz', 'ai', 'tb', 'inn', 'right', 'at', 'check', 'physical', 'storage', 'ne', 'field', 'book', 'tits', 'digital', 'holly', 'overradio', 'nw', 'parkour', 'cyberaware', 'network', 'building', 'e', 'amp', 'glass', 'daily', 'attaining', 'original'])\n"
     ]
    }
   ],
   "source": [
    "from pybloom import BloomFilter\n",
    "import os\n",
    "import re\n",
    "\n",
    "a = {i: open('English/' + i).read() for i in os.listdir('English/')}\n",
    "b = {i: set(re.split(\"\\W+\", j.lower())) for i, j in a.items()}\n",
    "d = {}\n",
    "for i,j in b.items():\n",
    "    print i,j\n",
    "    d[i] = BloomFilter(capacity=len(j), error_rate=0.1)\n",
    "    for j in j:\n",
    "        d[i].add(j)\n"
   ]
  },
  {
   "cell_type": "markdown",
   "metadata": {},
   "source": [
    "6.3 For another days worth of twitter data find the previous twitters that match in the bloom filter (This means get two days of data in one file or directory , use that data for training the bloom filter, capture a different days data in a different file ( or do it in real time)and capture the match output then running the new twitter data through the filter."
   ]
  },
  {
   "cell_type": "code",
   "execution_count": 23,
   "metadata": {},
   "outputs": [
    {
     "name": "stdout",
     "output_type": "stream",
     "text": [
      "405\n",
      "0\n"
     ]
    }
   ],
   "source": [
    "from dynamic_pybloom import ScalableBloomFilter\n",
    "obj = ScalableBloomFilter(mode=ScalableBloomFilter.SMALL_SET_GROWTH)\n",
    "\n",
    "for word in cleaned_without_stopwords:\n",
    "    obj.add(word)\n",
    "len(obj)\n",
    "m= 0\n",
    "mm = 0\n",
    "for i in cleaned_without_stopwords_1:#compares both datasets but with same keywords\n",
    "    if i in obj:\n",
    "        m += 1\n",
    "    else:\n",
    "        mm += 1\n",
    "    \n",
    "print(m)\n",
    "print(mm)"
   ]
  },
  {
   "cell_type": "markdown",
   "metadata": {},
   "source": [
    "6.4 Plot a historgram of matches for each twitter in 5.3"
   ]
  },
  {
   "cell_type": "code",
   "execution_count": 24,
   "metadata": {},
   "outputs": [
    {
     "data": {
      "text/plain": [
       "[<matplotlib.text.Text at 0xee68908>, <matplotlib.text.Text at 0xee6ccc0>]"
      ]
     },
     "execution_count": 24,
     "metadata": {},
     "output_type": "execute_result"
    },
    {
     "data": {
      "image/png": "[encoded data removed]",
      "text/plain": [
       "<matplotlib.figure.Figure at 0x9a0f978>"
      ]
     },
     "metadata": {},
     "output_type": "display_data"
    }
   ],
   "source": [
    "%matplotlib inline\n",
    "import matplotlib.pyplot as plt\n",
    "x_pos = list(range(2))\n",
    "y_pos = [m,mm]\n",
    "width = 0.4\n",
    "fig, ax = plt.subplots()\n",
    "plt.bar(x_pos, y_pos, width, alpha=1, color='b')\n",
    "\n",
    "# Setting axis labels and ticks\n",
    "ax.set_ylabel('tweet_count', fontsize=15)\n",
    "ax.set_title('Matched  vs. Unmatched in two samples', fontsize=10, fontweight='bold')\n",
    "ax.set_xticks([p + 0.2 * width for p in x_pos])\n",
    "ax.set_xticklabels(['Match', 'mismatch'])\n",
    "#plt.grid()\n",
    "#Matches are more because, I took two twitter datasets with same keywords. The second one is a smaller dataset. "
   ]
  },
  {
   "cell_type": "markdown",
   "metadata": {
    "collapsed": true
   },
   "source": [
    "# References"
   ]
  },
  {
   "cell_type": "markdown",
   "metadata": {},
   "source": [
    "https://pandas.pydata.org/pandas-docs/stable/generated/pandas.DataFrame.html                           \n",
    "https://pypi.python.org/pypi/pybloom/1.0.2                                                                  \n",
    "http://nullege.com/codes/search/pybloom.ScalableBloomFilter                                                                  \n",
    "https://axiak.github.io/pybloomfiltermmap/                                                                                       \n",
    "https://pypi.python.org/pypi/pybloomfiltermmap                                                 \n",
    "http://www.geeksforgeeks.org/removing-stop-words-nltk-python/                                                    \n",
    "https://stackoverflow.com/questions/11331982/how-to-remove-any-url-within-a-string-in-python                                "
   ]
  },
  {
   "cell_type": "code",
   "execution_count": null,
   "metadata": {
    "collapsed": true
   },
   "outputs": [],
   "source": []
  }
 ],
 "metadata": {
  "kernelspec": {
   "display_name": "Python 2",
   "language": "python",
   "name": "python2"
  },
  "language_info": {
   "codemirror_mode": {
    "name": "ipython",
    "version": 2
   },
   "file_extension": ".py",
   "mimetype": "text/x-python",
   "name": "python",
   "nbconvert_exporter": "python",
   "pygments_lexer": "ipython2",
   "version": "2.7.13"
  }
 },
 "nbformat": 4,
 "nbformat_minor": 2
}
