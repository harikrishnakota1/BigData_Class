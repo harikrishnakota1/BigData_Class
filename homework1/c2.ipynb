{
 "cells": [
  {
   "cell_type": "code",
   "execution_count": null,
   "metadata": {
    "collapsed": true
   },
   "outputs": [],
   "source": [
    "For this challenge, the hint is to recognise the characters that maybe they are in the page source. \n",
    "So, when I viewed the page source there are many characters with a hint to find rare characters below. \n",
    "For this to import the url, I imported urllib. To find letters I used [A-Za-z] regular expression. "
   ]
  },
  {
   "cell_type": "code",
   "execution_count": 9,
   "metadata": {},
   "outputs": [
    {
     "name": "stdout",
     "output_type": "stream",
     "text": [
      "htmlheadtitleocrtitlelinkrelstylesheettypetextcsshrefstylecssheadbodycenterimgsrcocrjpgbrfontcolorcrecognizethecharactersmaybetheyareinthebookbrbutMAYBEtheyareinthepagesourcecenterbrbrbrfontsizecolorgoldGeneraltipsliUsethehintsTheyarehelpfulmostofthetimesliliInvestigatethedatagiventoyouliliAvoidlookingforspoilerslibrForumsahrefhttpwwwpythonchallengecomforumsPythonChallengeForumsareadbeforeyoupostbrIRCircfreenodenetpythonchallengebrbrToseethesolutionstothepreviouslevelreplacepcwithpcciegotohttpwwwpythonchallengecompccdefocrhtmlbodyhtmlfindrarecharactersinthemessbelowequality\n"
     ]
    }
   ],
   "source": [
    "import urllib \n",
    "import re\n",
    "url=\"http://www.pythonchallenge.com/pc/def/ocr.html\"\n",
    "response = request.urlopen(url)\n",
    "data = response.read().decode('utf-8')\n",
    "print (\"\".join(re.findall(\"[A-Za-z]\", data)))"
   ]
  },
  {
   "cell_type": "code",
   "execution_count": null,
   "metadata": {
    "collapsed": true
   },
   "outputs": [],
   "source": [
    "From all characters e,q,u,a,l,i,t,y are only letters. "
   ]
  }
 ],
 "metadata": {
  "kernelspec": {
   "display_name": "Python 3",
   "language": "python",
   "name": "python3"
  },
  "language_info": {
   "codemirror_mode": {
    "name": "ipython",
    "version": 3
   },
   "file_extension": ".py",
   "mimetype": "text/x-python",
   "name": "python",
   "nbconvert_exporter": "python",
   "pygments_lexer": "ipython3",
   "version": "3.6.1"
  }
 },
 "nbformat": 4,
 "nbformat_minor": 2
}
