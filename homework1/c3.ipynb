{
 "cells": [
  {
   "cell_type": "code",
   "execution_count": null,
   "metadata": {
    "collapsed": true
   },
   "outputs": [],
   "source": [
    "For this challenge, the hint is that every small letter should be surrounded by 3 capital letters.\n",
    "Just like before, I viewed the page source to get any information and found many characters. "
   ]
  },
  {
   "cell_type": "code",
   "execution_count": 7,
   "metadata": {},
   "outputs": [
    {
     "name": "stdout",
     "output_type": "stream",
     "text": [
      "['l', 'i', 'n', 'k', 'e', 'd', 'l', 'i', 's', 't']\n"
     ]
    }
   ],
   "source": [
    "import urllib \n",
    "import re\n",
    "url=\"http://www.pythonchallenge.com/pc/def/equality.html\"\n",
    "response = request.urlopen(url)\n",
    "data = response.read().decode('utf-8')\n",
    "print (re.findall(\"[a-z][A-Z]{3}([a-z])[A-Z]{3}[a-z]\", data))"
   ]
  },
  {
   "cell_type": "code",
   "execution_count": null,
   "metadata": {
    "collapsed": true
   },
   "outputs": [],
   "source": [
    "As the hint says, that every small letter [a-z] should be surrounded by 3 capital letters i.e., [A-Z]{3}. \n",
    "From all the letters, we got the l,i,n,k,e,d,l,i,s,t which directs to the next challenge."
   ]
  }
 ],
 "metadata": {
  "kernelspec": {
   "display_name": "Python 3",
   "language": "python",
   "name": "python3"
  },
  "language_info": {
   "codemirror_mode": {
    "name": "ipython",
    "version": 3
   },
   "file_extension": ".py",
   "mimetype": "text/x-python",
   "name": "python",
   "nbconvert_exporter": "python",
   "pygments_lexer": "ipython3",
   "version": "3.6.1"
  }
 },
 "nbformat": 4,
 "nbformat_minor": 2
}
