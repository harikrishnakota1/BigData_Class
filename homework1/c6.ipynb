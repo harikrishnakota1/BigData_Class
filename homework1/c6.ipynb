{
 "cells": [
  {
   "cell_type": "code",
   "execution_count": null,
   "metadata": {
    "collapsed": true
   },
   "outputs": [],
   "source": [
    "For this challenge, there are hints in the source code, to replace html to zip. \n",
    "Which downloaded a zip file, containing 908 text files with a single line text and a number.\n",
    "There is another hint in \"readme.txt\" to start from 90052 and the answer is the zip file, \n",
    "which means we should search and read all the files in the zip."
   ]
  },
  {
   "cell_type": "code",
   "execution_count": null,
   "metadata": {
    "collapsed": true
   },
   "outputs": [],
   "source": [
    "Firstly, I got the information of every file with a character or empty space or letters.\n",
    "When we appended this info by comments. The output formed is HOCKEY, which is not directing the next challenge."
   ]
  },
  {
   "cell_type": "code",
   "execution_count": 2,
   "metadata": {},
   "outputs": [
    {
     "name": "stdout",
     "output_type": "stream",
     "text": [
      "Collect the comments.\n",
      "***************************************************************\n",
      "****************************************************************\n",
      "**                                                            **\n",
      "**   OO    OO    XX      YYYY    GG    GG  EEEEEE NN      NN  **\n",
      "**   OO    OO  XXXXXX   YYYYYY   GG   GG   EEEEEE  NN    NN   **\n",
      "**   OO    OO XXX  XXX YYY   YY  GG GG     EE       NN  NN    **\n",
      "**   OOOOOOOO XX    XX YY        GGG       EEEEE     NNNN     **\n",
      "**   OOOOOOOO XX    XX YY        GGG       EEEEE      NN      **\n",
      "**   OO    OO XXX  XXX YYY   YY  GG GG     EE         NN      **\n",
      "**   OO    OO  XXXXXX   YYYYYY   GG   GG   EEEEEE     NN      **\n",
      "**   OO    OO    XX      YYYY    GG    GG  EEEEEE     NN      **\n",
      "**                                                            **\n",
      "****************************************************************\n",
      " **************************************************************\n",
      "\n"
     ]
    }
   ],
   "source": [
    "import urllib, zipfile, re, collections\n",
    "\n",
    "o,n,f=[],\"90052\",\"%s.txt\"\n",
    "data=\"Next nothing is (\\d+)\"\n",
    "\n",
    "file=zipfile.ZipFile(\"channel.zip\")\n",
    "while True: \n",
    "    try:\n",
    "        n=re.search(data,file.read(f %n)).group(1)\n",
    "        \n",
    "    except:\n",
    "        print file.read(f % n)\n",
    "        break\n",
    "   #print f % n\n",
    "   #print file.getinfo(f % n)\n",
    "   #print file.getinfo(f % n).comment\n",
    "    o.append(file.getinfo(f % n).comment)\n",
    "    \n",
    "#print len(o)\n",
    "print \"\".join(o)"
   ]
  },
  {
   "cell_type": "code",
   "execution_count": null,
   "metadata": {
    "collapsed": true
   },
   "outputs": [],
   "source": [
    "Later found the original output to be \"oxygen\" which directed to a new challenge."
   ]
  }
 ],
 "metadata": {
  "kernelspec": {
   "display_name": "Python 2",
   "language": "python",
   "name": "python2"
  },
  "language_info": {
   "codemirror_mode": {
    "name": "ipython",
    "version": 2
   },
   "file_extension": ".py",
   "mimetype": "text/x-python",
   "name": "python",
   "nbconvert_exporter": "python",
   "pygments_lexer": "ipython2",
   "version": "2.7.13"
  }
 },
 "nbformat": 4,
 "nbformat_minor": 2
}
