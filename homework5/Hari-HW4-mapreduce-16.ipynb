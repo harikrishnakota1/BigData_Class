{
 "cells": [
  {
   "cell_type": "code",
   "execution_count": 5,
   "metadata": {},
   "outputs": [],
   "source": [
    "%matplotlib inline\n",
    "import pandas as pd\n",
    "import numpy as np\n",
    "import matplotlib as mpl\n",
    "import matplotlib.pyplot as plt\n",
    "import mrjob as mr\n",
    "import nltk"
   ]
  },
  {
   "cell_type": "markdown",
   "metadata": {},
   "source": [
    "### Homework 5\n",
    "\n",
    "Copy this notebook. Rename it as: YOURNAME-HW4-mapreduce-XX\n",
    "\n",
    "with your name replacing YOURNAME and the xx replaced with the date you submit or copy this HW.\n",
    "\n",
    "Upload your completed jupyter notebook to elearning site as your homework submission. Do not put this notebook on your github.\n",
    "\n",
    "Do all the homeworks problems below:\n",
    "As noted doing the homework gets a 3 out of 5. Extension of homework to to implement an TD-IDF algorithm  (see below)\n",
    "\n",
    "Use the data/bible+shakes.nonpunc.txt file as the source of you analysis in this homework"
   ]
  },
  {
   "cell_type": "markdown",
   "metadata": {},
   "source": [
    "## Homework 5.1\n",
    "A bigram is the combination of words.  Find the 10 most common bigrams from the text.  Order counts in the bigram combination for example \"in the\" is not the same bigram as \"the in\"\n",
    "\n"
   ]
  },
  {
   "cell_type": "code",
   "execution_count": 10,
   "metadata": {},
   "outputs": [
    {
     "name": "stdout",
     "output_type": "stream",
     "text": [
      "('of', 'the') : 13082\n",
      "('the', 'lord') : 7141\n",
      "('and', 'the') : 7071\n",
      "('in', 'the') : 6782\n",
      "('to', 'the') : 3822\n",
      "('i', 'will') : 3518\n",
      "('and', 'he') : 3040\n",
      "('shall', 'be') : 3016\n",
      "('all', 'the') : 2733\n",
      "('i', 'have') : 2716\n"
     ]
    }
   ],
   "source": [
    "rawfile = open('C:\\\\Users\\\\Pavani\\\\Downloads\\\\big-data-python-class-master\\\\big-data-python-class-master\\\\Homeworks\\\\Homework5\\\\data\\\\bible+shakes.nopunc.txt')\n",
    "rawdata = rawfile.read()\n",
    "words = nltk.word_tokenize(rawdata)#tokenizes text in to list of words.\n",
    "bigram =nltk.ngrams(words,2)#Generates bigrams\n",
    "bigram_count = nltk.FreqDist(bigram)#computes the count of all bigrams\n",
    "#Sorts and gives top 10 bigrams based on the bigram_count ([:10]) \n",
    "d=sorted(bigram_count.items(),key=lambda t:t[-1], reverse =True)[:10]\n",
    "for k,v in d:\n",
    "    print k,':',v"
   ]
  },
  {
   "cell_type": "markdown",
   "metadata": {},
   "source": [
    "## Homework 5.2\n",
    "Now do the same analysis but make the word order not count \"in the\" == \"the in\".  Find the 10 most common ordered bigrams from the alice text.  \n",
    " "
   ]
  },
  {
   "cell_type": "code",
   "execution_count": 12,
   "metadata": {},
   "outputs": [
    {
     "name": "stdout",
     "output_type": "stream",
     "text": [
      "('of', 'the') : 13082\n",
      "('lord', 'the') : 7291\n",
      "('and', 'the') : 7071\n",
      "('in', 'the') : 6783\n",
      "('i', 'will') : 4153\n",
      "('the', 'to') : 3822\n",
      "('have', 'i') : 3177\n",
      "('and', 'he') : 3142\n",
      "('be', 'shall') : 3018\n",
      "('am', 'i') : 2911\n"
     ]
    }
   ],
   "source": [
    "rawfile = open('C:\\\\Users\\\\Pavani\\\\Downloads\\\\big-data-python-class-master\\\\big-data-python-class-master\\\\Homeworks\\\\Homework5\\\\data\\\\bible+shakes.nopunc.txt')\n",
    "rawdata = rawfile.read()\n",
    "bigram = [tuple(sorted(n)) for n in list(nltk.ngrams(rawdata.split(),2))]#Generates the bigram without any order\n",
    "bigram_count=nltk.FreqDist(bigram)\n",
    "d=sorted(bigram_count.items(), key=lambda t:t[-1], reverse=True)[:10]#sorts entire elements based on the bigram_count in reverse order\n",
    "for k,v in d:\n",
    "    print k,\":\",v    "
   ]
  },
  {
   "cell_type": "markdown",
   "metadata": {},
   "source": [
    "## Homework 5.3\n",
    "A trigram are three word combintation.  Find the 10 most common ordered trigrams from the alice text.  Make it so that the order of the words do not count in the trigram combination for example \"in the air\" is the same trigram as \"the air in\" or \"air in the\"...\n"
   ]
  },
  {
   "cell_type": "code",
   "execution_count": 14,
   "metadata": {},
   "outputs": [
    {
     "name": "stdout",
     "output_type": "stream",
     "text": [
      "('lord', 'of', 'the') : 2054\n",
      "('children', 'of', 'the') : 1794\n",
      "('house', 'of', 'the') : 1583\n",
      "('of', 'son', 'the') : 1527\n",
      "('and', 'lord', 'the') : 1429\n",
      "('land', 'of', 'the') : 1025\n",
      "('lord', 'saith', 'the') : 866\n",
      "('of', 'out', 'the') : 858\n",
      "('and', 'i', 'will') : 822\n",
      "('of', 'sons', 'the') : 763\n"
     ]
    }
   ],
   "source": [
    "rawfile = open('C:\\\\Users\\\\Pavani\\\\Downloads\\\\big-data-python-class-master\\\\big-data-python-class-master\\\\Homeworks\\\\Homework5\\\\data\\\\bible+shakes.nopunc.txt')\n",
    "rawdata = rawfile.read()\n",
    "word = nltk.word_tokenize(rawdata)\n",
    "trigrams = [tuple(sorted(n)) for n in list(nltk.ngrams(rawdata.split(),3))]#creates trigrams without any order\n",
    "trigram_count=nltk.FreqDist(trigrams)\n",
    "d=sorted(trigram_count.items(), key=lambda t:t[-1], reverse=True)[:10]\n",
    "for k,v in d:\n",
    "    print k,\":\",v    "
   ]
  },
  {
   "cell_type": "markdown",
   "metadata": {},
   "source": [
    "## Homework 5.4\n",
    "Create graphs to explain the relationship of the frequency of monograms ( words ) to bigrams and trigam frequencies"
   ]
  },
  {
   "cell_type": "code",
   "execution_count": 15,
   "metadata": {},
   "outputs": [
    {
     "data": {
      "image/png": "[encoded data removed]",
      "text/plain": [
       "<matplotlib.figure.Figure at 0x1eb27400>"
      ]
     },
     "metadata": {},
     "output_type": "display_data"
    },
    {
     "data": {
      "image/png": "[encoded data removed]",
      "text/plain": [
       "<matplotlib.figure.Figure at 0xd6464e0>"
      ]
     },
     "metadata": {},
     "output_type": "display_data"
    },
    {
     "data": {
      "image/png": "[encoded data removed]",
      "text/plain": [
       "<matplotlib.figure.Figure at 0x382a2630>"
      ]
     },
     "metadata": {},
     "output_type": "display_data"
    }
   ],
   "source": [
    "rawfile = open('C:\\\\Users\\\\Pavani\\\\Downloads\\\\big-data-python-class-master\\\\big-data-python-class-master\\\\Homeworks\\\\Homework5\\\\data\\\\bible+shakes.nopunc.txt')\n",
    "rawdata = rawfile.read()\n",
    "word = nltk.word_tokenize(rawdata)\n",
    "monogram = nltk.ngrams(word,1)\n",
    "bigrams = nltk.ngrams(word,2)\n",
    "trigrams = nltk.ngrams(word,3)\n",
    "\n",
    "monogram_count = nltk.FreqDist(monogram)\n",
    "digram_count = nltk.FreqDist(bigrams)\n",
    "trigram_count = nltk.FreqDist(trigrams)\n",
    "plt.title(\"top 10 Monograms\")\n",
    "monogram_count.plot(10,cumulative=False,color='r')\n",
    "plt.title(\"top 10 Bigrams\")\n",
    "bigram_count.plot(10,cumulative=False,color ='g')\n",
    "plt.title(\"top 10 Trigrams\")\n",
    "trigram_count.plot(10,cumulative=False,color='b')"
   ]
  },
  {
   "cell_type": "markdown",
   "metadata": {},
   "source": [
    "## For greater than a score of 3 \n",
    "###  Create a TD - IDF implementation and \n",
    "### Analyze the following Sherlock Holmes book from Project Gutenberg text versions of :\n",
    "The Adventures of Sherlock Holmes-  http://www.gutenberg.org/ebooks/1661.txt.utf-8\n",
    "\n",
    "A Study in Scarlet - http://www.gutenberg.org/files/244/244-0.txt\n",
    "\n",
    "The Hound of the Baskervilles - http://www.gutenberg.org/files/2852/2852-0.txt\n",
    "\n",
    "The Return of Sherlock Holmes - http://www.gutenberg.org/files/108/108-0.txt\n",
    "\n",
    "The Sign of the Four - http://www.gutenberg.org/ebooks/2097.txt.utf-8\n",
    "\n",
    "### Display the scores for the top 20 highest frequencty terms and the relationship to the books\n",
    "\n"
   ]
  },
  {
   "cell_type": "code",
   "execution_count": 16,
   "metadata": {},
   "outputs": [
    {
     "name": "stdout",
     "output_type": "stream",
     "text": [
      "word:Holmes\n",
      "Total Count:1633\n",
      "Book Name:The Return of Sherlock Holmes\n",
      "\n",
      "word:Gutenberg\n",
      "Total Count:418\n",
      "Book Name:The Sign of the Four\n",
      "\n",
      "word:little\n",
      "Total Count:621\n",
      "Book Name:The Adventures of Sherlock Holmes\n",
      "\n",
      "word:There\n",
      "Total Count:648\n",
      "Book Name:A Study in Scarlet\n",
      "\n",
      "word:would\n",
      "Total Count:1158\n",
      "Book Name:The Return of Sherlock Holmes\n",
      "\n",
      "word:shall\n",
      "Total Count:407\n",
      "Book Name:The Adventures of Sherlock Holmes\n",
      "\n",
      "word:house\n",
      "Total Count:391\n",
      "Book Name:The Return of Sherlock Holmes\n",
      "\n",
      "word:could\n",
      "Total Count:1042\n",
      "Book Name:The Hound of the Baskervilles\n",
      "\n",
      "word:there\n",
      "Total Count:1231\n",
      "Book Name:The Hound of the Baskervilles\n",
      "\n",
      "word:about\n",
      "Total Count:604\n",
      "Book Name:The Sign of the Four\n",
      "\n",
      "word:should\n",
      "Total Count:704\n",
      "Book Name:The Hound of the Baskervilles\n",
      "\n",
      "word:Project\n",
      "Total Count:418\n",
      "Book Name:The Sign of the Four\n",
      "\n",
      "word:Watson\n",
      "Total Count:436\n",
      "Book Name:The Hound of the Baskervilles\n",
      "\n",
      "word:other\n",
      "Total Count:561\n",
      "Book Name:The Sign of the Four\n",
      "\n",
      "word:which\n",
      "Total Count:2473\n",
      "Book Name:The Adventures of Sherlock Holmes\n",
      "\n",
      "word:night\n",
      "Total Count:452\n",
      "Book Name:The Sign of the Four\n",
      "\n",
      "word:found\n",
      "Total Count:386\n",
      "Book Name:A Study in Scarlet\n",
      "\n",
      "word:might\n",
      "Total Count:388\n",
      "Book Name:The Hound of the Baskervilles\n",
      "\n",
      "word:think\n",
      "Total Count:497\n",
      "Book Name:The Adventures of Sherlock Holmes\n",
      "\n",
      "word:before\n",
      "Total Count:536\n",
      "Book Name:The Adventures of Sherlock Holmes\n",
      "\n"
     ]
    }
   ],
   "source": [
    "import re\n",
    "from bs4 import BeautifulSoup\n",
    "import urllib3\n",
    "import operator\n",
    "\n",
    "#gets data from the website and decode it into text\n",
    "http = urllib3.PoolManager()\n",
    "r = http.request('GET', 'http://www.gutenberg.org/ebooks/1661.txt.utf-8')\n",
    "raw1=r.data.decode('utf8')\n",
    "\n",
    "http = urllib3.PoolManager()\n",
    "r = http.request('GET', 'http://www.gutenberg.org/files/244/244-0.txt')\n",
    "raw2=r.data.decode('utf8')\n",
    "\n",
    "http = urllib3.PoolManager()\n",
    "r = http.request('GET', 'http://www.gutenberg.org/files/2852/2852-0.txt')\n",
    "raw3=r.data.decode('utf8')\n",
    "\n",
    "http = urllib3.PoolManager()\n",
    "r = http.request('GET', 'http://www.gutenberg.org/files/108/108-0.txt')\n",
    "raw4=r.data.decode('utf8')\n",
    "\n",
    "http = urllib3.PoolManager()\n",
    "r = http.request('GET', 'http://www.gutenberg.org/ebooks/2097.txt.utf-8')\n",
    "raw5=r.data.decode('utf8')\n",
    "\n",
    "#extracts all words from the text without punctuations \n",
    "word1=re.compile('\\w+').findall(raw1)\n",
    "word2=re.compile('\\w+').findall(raw2)\n",
    "word3=re.compile('\\w+').findall(raw3)\n",
    "word4=re.compile('\\w+').findall(raw4)\n",
    "word5=re.compile('\\w+').findall(raw5)\n",
    "\n",
    "d1=dict()\n",
    "for word in word1:\n",
    "    if word in d1:\n",
    "        d1[word]+=1\n",
    "    else:\n",
    "        if len(word)>4:\n",
    "            d1[word]=1\n",
    "\n",
    "d2=dict()\n",
    "for word in word2:\n",
    "    if word in d2:\n",
    "        d2[word]+=1\n",
    "    else:\n",
    "        if len(word)>4:\n",
    "            d2[word]=1\n",
    "            \n",
    "d3=dict()\n",
    "for word in word3:\n",
    "    if word in d3:\n",
    "        d3[word]+=1\n",
    "    else:\n",
    "        if len(word)>4:\n",
    "            d3[word]=1\n",
    "            \n",
    "d4=dict()\n",
    "for word in word4:\n",
    "    if word in d4:\n",
    "        d4[word]+=1\n",
    "    else:\n",
    "        if len(word)>4:\n",
    "            d4[word]=1\n",
    "            \n",
    "d5=dict()\n",
    "for word in word5:\n",
    "    if word in d5:\n",
    "        d5[word]+=1\n",
    "    else:\n",
    "        if len(word)>4:\n",
    "            d5[word]=1\n",
    "\n",
    "d=dict()\n",
    "for word in word1:\n",
    "    if word in d:\n",
    "        d[word]+=1\n",
    "    else:\n",
    "        if len(word)>4:\n",
    "            d[word]=1\n",
    "for word in word2:\n",
    "    if word in d:\n",
    "        d[word]+=1\n",
    "    else:\n",
    "        if len(word)>4:\n",
    "            d[word]=1\n",
    "for word in word3:\n",
    "    if word in d:\n",
    "        d[word]+=1\n",
    "    else:\n",
    "        if len(word)>4:\n",
    "            d[word]=1\n",
    "for word in word4:\n",
    "    if word in d:\n",
    "        d[word]+=1\n",
    "    else:\n",
    "        if len(word)>4:\n",
    "            d[word]=1\n",
    "for word in word5:\n",
    "    if word in d:\n",
    "        d[word]+=1\n",
    "    else:\n",
    "        if len(word)>4:\n",
    "            d[word]=1\n",
    "\n",
    "word1_c=sum(d1.values())\n",
    "word2_c=sum(d2.values())\n",
    "word3_c=sum(d3.values())\n",
    "word4_c=sum(d4.values())\n",
    "word5_c=sum(d5.values())\n",
    "#returns key with maximum value\n",
    "def maxd(d):\n",
    "    return max(d.iteritems(), key=operator.itemgetter(1))[0]\n",
    "\n",
    "dw=dict()\n",
    "for i in range(0,20):\n",
    "    key=max(d.iteritems(), key=operator.itemgetter(1))[0]\n",
    "    dw[key]=d[key]\n",
    "    d[key]=0\n",
    "for i in dw.keys():\n",
    "    print \"word:\"+i\n",
    "    print \"Total Count:\"+str(dw[i])\n",
    "    dl=list()\n",
    "    dl=[d1[i]/float(word1_c),d2[i]/float(word2_c),d3[i]/float(word3_c),d4[i]/float(word4_c),d5[i]/float(word5_c)]\n",
    "    \n",
    "    j=0\n",
    "    ds=dict()\n",
    "    db=['The Adventures of Sherlock Holmes','A Study in Scarlet','The Hound of the Baskervilles','The Return of Sherlock Holmes','The Sign of the Four']\n",
    "    for i in range(0,5):\n",
    "        ds[db[i]]=dl[i]\n",
    "        j+=1\n",
    "    print \"Book Name:\"+maxd(ds)\n",
    "    print \"\""
   ]
  },
  {
   "cell_type": "code",
   "execution_count": null,
   "metadata": {
    "collapsed": true
   },
   "outputs": [],
   "source": []
  }
 ],
 "metadata": {
  "kernelspec": {
   "display_name": "Python 2",
   "language": "python",
   "name": "python2"
  },
  "language_info": {
   "codemirror_mode": {
    "name": "ipython",
    "version": 2
   },
   "file_extension": ".py",
   "mimetype": "text/x-python",
   "name": "python",
   "nbconvert_exporter": "python",
   "pygments_lexer": "ipython2",
   "version": "2.7.13"
  }
 },
 "nbformat": 4,
 "nbformat_minor": 1
}
